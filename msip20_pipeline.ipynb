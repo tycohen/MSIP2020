{
 "cells": [
  {
   "cell_type": "markdown",
   "metadata": {},
   "source": [
    "<br/>\n",
    "<span style=\"font-size: 4em;\">MSP Population Synthesis Pipeline</span>\n",
    "<br/><br/>\n",
    "<span style=\"font-size: 4em;\">for MSIP 2020</span>"
   ]
  },
  {
   "cell_type": "markdown",
   "metadata": {},
   "source": [
    "Don't actually run this notebook. This is just if you care to see exactly what I did."
   ]
  },
  {
   "cell_type": "code",
   "execution_count": 23,
   "metadata": {},
   "outputs": [],
   "source": [
    "import cPickle\n",
    "import os\n",
    "import tarfile\n",
    "import pandas as pd\n",
    "from glob import glob\n",
    "from copy import deepcopy\n",
    "from itertools import product\n",
    "import numpy as np\n",
    "import matplotlib as mpl\n",
    "import matplotlib.pyplot as plt\n",
    "from PTAOptimizer import timing_precision\n",
    "from PTAOptimizer import mkasc\n",
    "from psrpoppy.populate import rednoise_cs10"
   ]
  },
  {
   "cell_type": "markdown",
   "metadata": {},
   "source": [
    "# Add Red Noise into Model\n",
    "Compute $A_\\mathrm{red}$ and $\\gamma_\\mathrm{red}$ for each pulsar in the population."
   ]
  },
  {
   "cell_type": "code",
   "execution_count": 29,
   "metadata": {},
   "outputs": [],
   "source": [
    "# read in psrpoppy population model\n",
    "# This is old model based only on Parkes MB\n",
    "with open('../models/MSPpop.model', 'rb') as popfile:\n",
    "    pop = cPickle.load(popfile)"
   ]
  },
  {
   "cell_type": "code",
   "execution_count": 30,
   "metadata": {},
   "outputs": [
    {
     "data": {
      "text/plain": [
       "38475"
      ]
     },
     "execution_count": 30,
     "metadata": {},
     "output_type": "execute_result"
    }
   ],
   "source": [
    "len(pop.population)"
   ]
  },
  {
   "cell_type": "code",
   "execution_count": 4,
   "metadata": {},
   "outputs": [],
   "source": [
    "pop.rnDistPars = [1.6, -1.4, 1.1, 2.0, 1.6]\n",
    "for p in pop.population:\n",
    "    p.rn_amp, p.rn_index = rednoise_cs10(p, lnC2=1.6,\n",
    "                                         alpha=-1.4,\n",
    "                                         beta=1.1,\n",
    "                                         gamma=2.0,\n",
    "                                         delta=1.6)"
   ]
  },
  {
   "cell_type": "markdown",
   "metadata": {},
   "source": [
    "# Determine Pulsars to Exclude\n",
    "Remove pulsars whose RMS white noise $\\left(\\sqrt{\\sigma_\\mathrm{RN}^2 + \\sigma_\\mathrm{j}^2}\\right)$ resemble pulsars in the real NANOGrav dataset."
   ]
  },
  {
   "cell_type": "code",
   "execution_count": 7,
   "metadata": {},
   "outputs": [],
   "source": [
    "# AO L-S frequency range\n",
    "Lband_nus = np.linspace(1.44 - .618 / 2, 1.44 + .618 / 2, 55 + 1)[:-1]\n",
    "# S-high\n",
    "Shi_nus = np.linspace(2.227 - .354 / 2, 2.227 + .354 / 2, 30 + 1)[:-1]\n",
    "# S-low\n",
    "Slo_nus = np.linspace(1.79 - .180 / 2, 1.79 + .180 / 2, 15 + 1)[:-1]\n",
    "aoLS_nus = np.sort(np.concatenate([Lband_nus, Slo_nus, Shi_nus]))\n",
    "\n",
    "# AO 430-L frequency range\n",
    "nus_ao430 = np.linspace(.432 - .02 / 2, .432 + .02 / 2, 10 + 1)[:-1]\n",
    "nus_aoL = np.linspace(1.44 - .58 / 2, 1.44 + .58 / 2, 90 + 1)[:-1]\n",
    "ao430L_nus = np.concatenate([nus_ao430, nus_aoL])\n",
    "\n",
    "# GB 800-1200 frequency range\n",
    "nus_gb800 = np.linspace(.820 - .200 / 2, .820 + .200 / 2, 20 + 1)[:-1]\n",
    "nus_gb1_2 = np.linspace(1.510 - .800 / 2, 1.510 + .800 / 2, 80 + 1)[:-1]\n",
    "gbt80012_nus = np.concatenate([nus_gb800, nus_gb1_2])"
   ]
  },
  {
   "cell_type": "code",
   "execution_count": 8,
   "metadata": {},
   "outputs": [],
   "source": [
    "# Time population with each configuration of AO and GBT frequency\n",
    "# It's 30 min/frequency right?\n",
    "gbt80012_pta = timing_precision.run_timing(pop, gbt80012_nus, \n",
    "                                             rxspecfile='GBT_Rcvr_800-Rcvr_1_2_test.txt',\n",
    "                                             t_int=3600., dec_lim=(90.0, -46.0)) \n",
    "ao430L_pta = timing_precision.run_timing(pop, ao430L_nus, \n",
    "                                            rxspecfile='AO_430_Lwide_test.txt',\n",
    "                                            t_int=3600., dec_lim=(39.0, 0.0))\n",
    "aoLS_pta = timing_precision.run_timing(pop, aoLS_nus, \n",
    "                                        rxspecfile='AO_Lwide_Swide.txt',\n",
    "                                        t_int=3600., dec_lim=(39.0, 0.0))"
   ]
  },
  {
   "cell_type": "code",
   "execution_count": 9,
   "metadata": {},
   "outputs": [
    {
     "name": "stdout",
     "output_type": "stream",
     "text": [
      "1812 MSPs in sim AO list\n",
      "9578 MSPs in sim GBT list\n"
     ]
    }
   ],
   "source": [
    "# Pick best frequency range for each MSP at Arecibo\n",
    "aobest_list = timing_precision.best_timed([ao430L_pta, aoLS_pta])\n",
    "print('{} MSPs in sim AO list'.format(len(aobest_list)))\n",
    "# Exclude AO sky from GBT\n",
    "gbt_list = [p for p in gbt80012_pta.population if (p.dec >= 39. or p.dec <= 0.) and p.sigma_toa > 0.]\n",
    "print('{} MSPs in sim GBT list'.format(len(gbt_list)))"
   ]
  },
  {
   "cell_type": "code",
   "execution_count": 10,
   "metadata": {},
   "outputs": [],
   "source": [
    "# Read in NG RMSs and separate by telescope\n",
    "df = pd.read_csv('NG_RMS.csv')\n",
    "ngrms_gbt = list(np.array(df.RMS)[np.where(df.Observatory == 'GBT')])\n",
    "ngrms_ao = list(np.array(df.RMS)[np.where(df.Observatory == 'AO')])"
   ]
  },
  {
   "cell_type": "code",
   "execution_count": 11,
   "metadata": {},
   "outputs": [
    {
     "name": "stdout",
     "output_type": "stream",
     "text": [
      "9544 MSPs in sim GBT list, 0 MSPs in NG RMS list\n"
     ]
    }
   ],
   "source": [
    "# Remove simulated MSPs similar to NG MSPs from GBT PTA\n",
    "gbt_excl = []\n",
    "for i in range(len(ngrms_gbt)):\n",
    "    closest = sorted(product(gbt_list, ngrms_gbt),\n",
    "                       key=lambda t: abs( np.sqrt(t[0].sigma_rn ** 2 + t[0].sigmaj(3600.)**2) - t[1]))[0]\n",
    "    gbt_list.remove(closest[0])\n",
    "    gbt_excl.append(closest[0])\n",
    "    ngrms_gbt.remove(closest[1])\n",
    "print('{} MSPs in sim GBT list, {} MSPs in NG RMS list'.format(len(gbt_list), len(ngrms_gbt)))"
   ]
  },
  {
   "cell_type": "code",
   "execution_count": 12,
   "metadata": {},
   "outputs": [],
   "source": [
    "# get location of excluded pulsars in GBT pta\n",
    "gbt_exclidx = [gbt80012_pta.population.index(p) for p in gbt_excl]"
   ]
  },
  {
   "cell_type": "code",
   "execution_count": 13,
   "metadata": {},
   "outputs": [
    {
     "name": "stdout",
     "output_type": "stream",
     "text": [
      "1777 MSPs in sim AO list, 0 MSPs in NG RMS list\n"
     ]
    }
   ],
   "source": [
    "# Remove simulated MSPs similar to NG MSPs from AO PTA\n",
    "ao_excl = []\n",
    "for i in range(len(ngrms_ao)):\n",
    "    closest = sorted(product(aobest_list, ngrms_ao),\n",
    "                       key=lambda t: abs( np.sqrt(t[0].sigma_rn ** 2 + t[0].sigmaj(3600.)**2) - t[1]))[0]\n",
    "    aobest_list.remove(closest[0])\n",
    "    ao_excl.append(closest[0])\n",
    "    ngrms_ao.remove(closest[1])\n",
    "print('{} MSPs in sim AO list, {} MSPs in NG RMS list'.format(len(aobest_list), len(ngrms_ao)))"
   ]
  },
  {
   "cell_type": "code",
   "execution_count": 14,
   "metadata": {},
   "outputs": [],
   "source": [
    "# get location of excluded pulsars in AO pta\n",
    "ao_exclidx = []\n",
    "for p in ao_excl:\n",
    "    try:\n",
    "        ao_exclidx.append(ao430L_pta.population.index(p))\n",
    "    except ValueError:\n",
    "        ao_exclidx.append(aoLS_pta.population.index(p))"
   ]
  },
  {
   "cell_type": "code",
   "execution_count": 15,
   "metadata": {},
   "outputs": [],
   "source": [
    "# Remove excluded pulsars from population and save model to file\n",
    "all_exclidx = set(ao_exclidx + gbt_exclidx)\n",
    "incl_pop = deepcopy(pop)\n",
    "incl_pop.population = [p for i, p in enumerate(pop.population) if i not in all_exclidx]\n",
    "with open('models/incl_MSPpop.model', 'wb') as inclf:\n",
    "    cPickle.dump(incl_pop, inclf)"
   ]
  },
  {
   "cell_type": "code",
   "execution_count": 16,
   "metadata": {},
   "outputs": [],
   "source": [
    "# Save excluded pulsars (FOpPulsar's) to a separate model file\n",
    "excl_pop = deepcopy(pop)\n",
    "excl_pop.population = ao_excl + gbt_excl\n",
    "with open('models/excl_MSPpop.model', 'wb') as exclf:\n",
    "    cPickle.dump(excl_pop, exclf)"
   ]
  },
  {
   "cell_type": "markdown",
   "metadata": {},
   "source": [
    "# Time Populations with Respective Instruments\n",
    "Run included and excluded pulsars through various telescope configurations and compute $\\sigma$s."
   ]
  },
  {
   "cell_type": "code",
   "execution_count": 17,
   "metadata": {},
   "outputs": [],
   "source": [
    "# set up frequency ranges\n",
    "\n",
    "# AO L-S frequency range\n",
    "Lband_nus = np.linspace(1.44 - .618 / 2, 1.44 + .618 / 2, 55 + 1)[:-1]\n",
    "# S-high\n",
    "Shi_nus = np.linspace(2.227 - .354 / 2, 2.227 + .354 / 2, 30 + 1)[:-1]\n",
    "# S-low\n",
    "Slo_nus = np.linspace(1.79 - .180 / 2, 1.79 + .180 / 2, 15 + 1)[:-1]\n",
    "aoLS_nus = np.sort(np.concatenate([Lband_nus, Slo_nus, Shi_nus]))\n",
    "\n",
    "# AO 430-L frequency range\n",
    "nus_ao430 = np.linspace(.432 - .02 / 2, .432 + .02 / 2, 10 + 1)[:-1]\n",
    "nus_aoL = np.linspace(1.44 - .58 / 2, 1.44 + .58 / 2, 90 + 1)[:-1]\n",
    "ao430L_nus = np.concatenate([nus_ao430, nus_aoL])\n",
    "\n",
    "# GB 800-1200 frequency range\n",
    "nus_gb800 = np.linspace(.820 - .200 / 2, .820 + .200 / 2, 20 + 1)[:-1]\n",
    "nus_gb1_2 = np.linspace(1.510 - .800 / 2, 1.510 + .800 / 2, 80 + 1)[:-1]\n",
    "gbt80012_nus = np.concatenate([nus_gb800, nus_gb1_2])\n",
    "\n",
    "# GBT UWB \n",
    "gbuwb_ctrfreq = 2.35 #GHz\n",
    "gbuwb_bw = 3.3 # GHz\n",
    "gbuwb_nus = np.linspace(gbuwb_ctrfreq - gbuwb_bw / 2,\n",
    "                        gbuwb_ctrfreq + gbuwb_bw / 2,\n",
    "                        100 + 1)[:-1]\n",
    "\n",
    "# AO UWB\n",
    "aouwb_ctrf = 2.368\n",
    "aouwb_bw = 3.328\n",
    "aouwb_nus = np.linspace(aouwb_ctrf - aouwb_bw / 2, aouwb_ctrf + aouwb_bw / 2, 100 + 1)[:-1]\n",
    "\n",
    "# DSA 0.7-2 GHz\n",
    "dsa072_nus = np.linspace(1.35 - 1.3 / 2, 1.35 + 1.3 / 2, 100 + 1)[:-1]\n",
    "\n",
    "# VLA L & S \n",
    "vlaL_nus = np.linspace(1.5 - 1. / 2., 1.5 + 1. / 2., 50 + 1)[:-1]\n",
    "vlaS_nus = np.linspace(3. - 2. / 2., 3. + 2. / 2., 50 + 1)[:-1]\n",
    "vlaLS_nus = np.concatenate([vlaL_nus, vlaS_nus])\n",
    "\n",
    "# ngVLA Band 1 and 2\n",
    "ngvB1_nus = np.linspace(2.35 - 2.3 / 2, 2.35 + 2.3 / 2, 50 + 1)[:-1]\n",
    "ngvB2_nus = np.linspace(7.9 - 8.8 / 2, 7.9 + 8.8 / 2, 50 + 1)[:-1]\n",
    "ngvlaB12_nus = np.concatenate([ngvB1_nus, ngvB2_nus])"
   ]
  },
  {
   "cell_type": "code",
   "execution_count": null,
   "metadata": {},
   "outputs": [],
   "source": [
    "# Run included and excluded ~real MSPs through timing campaigns\n",
    "for cl in ['excl', 'incl']:\n",
    "    with open('models/{}_MSPpop.model'.format(cl), 'rb') as popfile:                     \n",
    "        clpop = cPickle.load(popfile)  \n",
    "\n",
    "    # Arecibo 430 & Lwide PTA\n",
    "    ao430L_pta = timing_precision.run_timing(clpop, ao430L_nus,  \n",
    "                                             rxspecfile='AO_430_Lwide_test.txt',\n",
    "                                             t_int=3600.,\n",
    "                                             dec_lim=(39.0, 0.0))\n",
    "    with open('models/{}_AO_430_Lwide_V3.pta.model'.format(cl), 'wb') as aooutf:\n",
    "        cPickle.dump(ao430L_pta, aooutf)\n",
    "        \n",
    "    # Arecibo L & S-band\n",
    "    aoLS_pta = timing_precision.run_timing(clpop, aoLS_nus,  \n",
    "                                             rxspecfile='AO_Lwide_Swide.txt',\n",
    "                                             t_int=3600.,\n",
    "                                             dec_lim=(39., 0.))\n",
    "    with open('models/{}_AO_Lwide_Swide_V3.pta.model'.format(cl), 'wb') as aooutf:\n",
    "        cPickle.dump(aoLS_pta, aooutf)\n",
    "\n",
    "    # GBT PTA\n",
    "    gbt_pta = timing_precision.run_timing(clpop, gbt80012_nus, \n",
    "                                          rxspecfile='GBT_Rcvr_800-Rcvr_1_2_test.txt',\n",
    "                                          t_int=3600.,\n",
    "                                          dec_lim=(90.0, -46.0))\n",
    "    with open('models/{}_GBT_Rcvr800_Rcvr12_V2.pta.model'.format(cl), 'wb') as gboutf:        \n",
    "        cPickle.dump(gbt_pta, gboutf)\n",
    "\n",
    "    # GBT UWB (double integration time for wide-band)\n",
    "    gbuwbspecfile = 'Corr_Efficiency_Dielectric_Loaded_Dec6_lowfmod.txt'\n",
    "    gbtuwb_pta = timing_precision.run_timing(clpop, gbuwb_nus, \n",
    "                                             rxspecfile=gbuwbspecfile,\n",
    "                                             t_int=3600., dec_lim=(90, -46))\n",
    "    with open('models/{}_GBT_UWB_V3.pta.model'.format(cl), 'wb') as guwboutf:   \n",
    "         cPickle.dump(gbtuwb_pta, guwboutf)\n",
    "\n",
    "    # AO UWB\n",
    "    aouwb_pta = timing_precision.run_timing(clpop, aouwb_nus, \n",
    "                                            rxspecfile='AO_UWB.txt',\n",
    "                                            t_int=3600., dec_lim=(39., 0.))\n",
    "    with open('models/{}_AO_UWB_V1.pta.model'.format(cl), 'wb') as auwboutf:   \n",
    "         cPickle.dump(aouwb_pta, auwboutf)\n",
    "\n",
    "    # DSA 0.7-2 GHz full array\n",
    "    dsa072_pta = timing_precision.run_timing(clpop, dsa072_nus,\n",
    "                                             Trx=20.,\n",
    "                                             Gain=10.,\n",
    "                                             eps=0.01,\n",
    "                                             t_int=3600.,\n",
    "                                             dec_lim=(90.0, -44.0))\n",
    "    with open('models/{}_dsa2k_07-2_V3.pta.model'.format(cl), 'wb') as dsa072outf:\n",
    "        cPickle.dump(dsa072_pta, dsa072outf)\n",
    "\n",
    "    # DSA 0.7-2, 1/2 Aeff\n",
    "    dsa072half_pta = timing_precision.run_timing(clpop, dsa072_nus,\n",
    "                                                 Trx=20.,\n",
    "                                                 Gain=5.,\n",
    "                                                 eps=0.01, t_int=3600.,\n",
    "                                                 dec_lim=(90.0, -44.0))\n",
    "    with open('models/{}_dsa2k_07-2_halfAeff_V3.pta.model'.format(cl), 'wb') as dsahalfoutf:\n",
    "        cPickle.dump(dsa072half_pta, dsahalfoutf)\n",
    "\n",
    "    # DSA 0.7-2, 1/4 Aeff\n",
    "    dsa072quart_pta = timing_precision.run_timing(clpop, dsa072_nus,\n",
    "                                                 Trx=20.,\n",
    "                                                 Gain=2.5,\n",
    "                                                 eps=0.01, t_int=3600.,\n",
    "                                                 dec_lim=(90.0, -44.0))\n",
    "    with open('models/{}_dsa2k_07-2_quartAeff_V3.pta.model'.format(cl), 'wb') as dsaqtoutf:\n",
    "        cPickle.dump(dsa072quart_pta, dsaqtoutf)\n",
    "\n",
    "    # VLA L-S band\n",
    "    vlaLS_pta = timing_precision.run_timing(clpop, vlaLS_nus,\n",
    "                                            rxspecfile='VLA_L-SBand.txt',\n",
    "                                            t_int=3600.,\n",
    "                                            dec_lim=(90.0, -44.0))\n",
    "    with open('models/{}_VLA_LBand-SBand_V2.pta.model'.format(cl), 'wb') as vlaLSf:\n",
    "        cPickle.dump(vlaLS_pta, vlaLSf)\n",
    "\n",
    "\n",
    "    # ngVLA Band1-Band2 20% area\n",
    "    ngvla_pta = timing_precision.run_timing(clpop, ngvlaB12_nus,\n",
    "                                            rxspecfile='ngVLA_20pct.txt',\n",
    "                                            t_int=3600.,\n",
    "                                            dec_lim=(90.0, -44.0))\n",
    "    with open('models/{}_ngVLA_Band1-2_V3.pta.model'.format(cl), 'wb') as ngvlaf:\n",
    "        cPickle.dump(ngvla_pta, ngvlaf)"
   ]
  },
  {
   "cell_type": "markdown",
   "metadata": {},
   "source": [
    "# Write out .par and ASCII files\n",
    "Write out a .par file for each pulsar and an ASCII file for each pta.model file"
   ]
  },
  {
   "cell_type": "code",
   "execution_count": 28,
   "metadata": {},
   "outputs": [
    {
     "name": "stdout",
     "output_type": "stream",
     "text": [
      "models/excl_AO_430_Lwide_V3.pta.model\n",
      "models/excl_AO_Lwide_Swide_V3.pta.model\n",
      "models/excl_GBT_Rcvr800_Rcvr12_V2.pta.model\n",
      "models/excl_GBT_UWB_V3.pta.model\n",
      "models/excl_AO_UWB_V1.pta.model\n",
      "models/excl_dsa2k_07-2_V3.pta.model\n",
      "models/excl_dsa2k_07-2_halfAeff_V3.pta.model\n",
      "models/excl_dsa2k_07-2_quartAeff_V3.pta.model\n",
      "models/excl_VLA_LBand-SBand_V2.pta.model\n",
      "models/excl_ngVLA_Band1-2_V3.pta.model\n",
      "models/incl_AO_430_Lwide_V3.pta.model\n",
      "models/incl_AO_Lwide_Swide_V3.pta.model\n",
      "models/incl_GBT_Rcvr800_Rcvr12_V2.pta.model\n",
      "models/incl_GBT_UWB_V3.pta.model\n",
      "models/incl_AO_UWB_V1.pta.model\n",
      "models/incl_dsa2k_07-2_V3.pta.model\n",
      "models/incl_dsa2k_07-2_halfAeff_V3.pta.model\n",
      "models/incl_dsa2k_07-2_quartAeff_V3.pta.model\n",
      "models/incl_VLA_LBand-SBand_V2.pta.model\n",
      "models/incl_ngVLA_Band1-2_V3.pta.model\n"
     ]
    }
   ],
   "source": [
    "from glob import glob\n",
    "\n",
    "for f in glob('models/*.pta.model'):                                                                                  \n",
    "    print(f)\n",
    "    try:\n",
    "        mkasc.mkasc(f, sortsigma=True)\n",
    "    except AttributeError:\n",
    "        print(f + ' didnt have the thing')\n",
    "        raise AttributeError"
   ]
  },
  {
   "cell_type": "code",
   "execution_count": null,
   "metadata": {},
   "outputs": [],
   "source": [
    "# write out exclude par files\n",
    "with open('models/excl_MSPpop.model', 'rb') as exclf:\n",
    "    exclmod = cPickle.load(exclf)\n",
    "for p in exclmod.population:\n",
    "    with open('data/exclude/PAR/{}.par'.format(p.jname()), 'wb') as parf:\n",
    "        parf.write(p.parfile())"
   ]
  },
  {
   "cell_type": "code",
   "execution_count": null,
   "metadata": {},
   "outputs": [],
   "source": [
    "# write out included par files\n",
    "with open('models/incl_MSPpop.model', 'rb') as inclf:\n",
    "    inclmod = cPickle.load(inclf)\n",
    "for p in inclmod.population:\n",
    "    with open('data/include/PAR/{}.par'.format(p.jname()), 'wb') as parf:\n",
    "        parf.write(p.parfile())"
   ]
  },
  {
   "cell_type": "code",
   "execution_count": null,
   "metadata": {},
   "outputs": [],
   "source": []
  }
 ],
 "metadata": {
  "kernelspec": {
   "display_name": "Python 2",
   "language": "python",
   "name": "python2"
  },
  "language_info": {
   "codemirror_mode": {
    "name": "ipython",
    "version": 2
   },
   "file_extension": ".py",
   "mimetype": "text/x-python",
   "name": "python",
   "nbconvert_exporter": "python",
   "pygments_lexer": "ipython2",
   "version": "2.7.15"
  },
  "toc": {
   "base_numbering": 1,
   "nav_menu": {},
   "number_sections": true,
   "sideBar": true,
   "skip_h1_title": false,
   "title_cell": "Table of Contents",
   "title_sidebar": "Contents",
   "toc_cell": false,
   "toc_position": {},
   "toc_section_display": true,
   "toc_window_display": false
  }
 },
 "nbformat": 4,
 "nbformat_minor": 2
}
